{
 "cells": [
  {
   "cell_type": "markdown",
   "metadata": {},
   "source": [
    "# Modelo de detecção de plágio\n",
    "\n",
    "Agora que você criou dados de treinamento e teste, está pronto para definir e treinar um modelo. Seu objetivo neste bloco de notas será treinar um modelo de classificação binária que aprenda a rotular um arquivo de resposta como plagiado ou não, com base nos recursos que você fornece ao modelo.\n",
    "\n",
    "Esta tarefa será dividida em algumas etapas discretas:\n",
    "\n",
    "* Envie seus dados para o S3.\n",
    "* Defina um modelo de classificação binária e um script de treinamento.\n",
    "* Treine seu modelo e implante-o.\n",
    "* Avalie seu classificador implantado e responda a algumas perguntas sobre sua abordagem.\n",
    "\n",
    "Para completar este caderno, você terá que completar todos os exercícios dados e responder a todas as perguntas neste caderno.\n",
    "> Todas as suas tarefas serão claramente rotuladas como **EXERCÍCIO** e as perguntas como **QUESTION**.\n",
    "\n",
    "Caberá a você explorar diferentes modelos de classificação e decidir sobre um modelo que ofereça o melhor desempenho para este conjunto de dados.\n",
    "\n",
    "---"
   ]
  },
  {
   "cell_type": "markdown",
   "metadata": {},
   "source": [
    "## Carregar dados para S3\n",
    "\n",
    "No último bloco de notas, você deve ter criado dois arquivos: um arquivo `training.csv` e` test.csv` com os recursos e rótulos de classe para o corpus dado de dados de texto plagiado / não plagiado.\n",
    "\n",
    "> As células abaixo são carregadas em algumas bibliotecas do AWS SageMaker e cria um intervalo padrão. Depois de criar esse bucket, você pode carregar seus dados armazenados localmente para o S3.\n",
    "\n",
    "Salve seus arquivos treino e teste de recurso `.csv`, localmente. Para fazer isso, você pode executar o segundo bloco de notas \"2_Plagiarism_Feature_Engineering\" no SageMaker ou pode carregar manualmente seus arquivos para este bloco de notas usando o ícone de upload no Laboratório Jupyter. Então você pode fazer upload de arquivos locais para o S3 usando `sagemaker_session.upload_data` e apontando diretamente para onde os dados de treinamento são salvos."
   ]
  },
  {
   "cell_type": "code",
   "execution_count": null,
   "metadata": {
    "collapsed": true
   },
   "outputs": [],
   "source": [
    "import pandas as pd\n",
    "import boto3\n",
    "import sagemaker"
   ]
  },
  {
   "cell_type": "code",
   "execution_count": null,
   "metadata": {
    "collapsed": true
   },
   "outputs": [],
   "source": [
    "\"\"\"\n",
    "DON'T MODIFY ANYTHING IN THIS CELL THAT IS BELOW THIS LINE\n",
    "\"\"\"\n",
    "# session and role\n",
    "sagemaker_session = sagemaker.Session()\n",
    "role = sagemaker.get_execution_role()\n",
    "\n",
    "# create an S3 bucket\n",
    "bucket = sagemaker_session.default_bucket()"
   ]
  },
  {
   "cell_type": "markdown",
   "metadata": {},
   "source": [
    "## EXERCÍCIO: Envie seus dados de treinamento para S3\n",
    "\n",
    "Especifique o `data_dir` onde você salvou seu arquivo` train.csv`. Escolha um `prefixo` descritivo que define onde seus dados serão carregados no bucket S3 padrão. Finalmente, crie um ponteiro para seus dados de treinamento chamando `sagemaker_session.upload_data` e passando os parâmetros necessários. Pode ser útil olhar a [documentação da sessão](https://sagemaker.readthedocs.io/en/stable/session.html#sagemaker.session.Session.upload_data) ou exemplos de código SageMaker anteriores.\n",
    "\n",
    "Espera-se que você carregue todo o seu diretório. Posteriormente, o script de treinamento acessará apenas o arquivo `train.csv`."
   ]
  },
  {
   "cell_type": "code",
   "execution_count": null,
   "metadata": {
    "collapsed": true
   },
   "outputs": [],
   "source": [
    "# should be the name of directory you created to save your features data\n",
    "data_dir = 'plagiarism_data'\n",
    "\n",
    "# set prefix, a descriptive name for a directory  \n",
    "prefix = 'plagiarism-detection'\n",
    "\n",
    "# upload all data to S3\n",
    "input_data = sagemaker_session.upload_data(path=data_dir, bucket=bucket, key_prefix=prefix)\n",
    "input_data\n",
    "#test_location = sagemaker_session.upload_data(os.path.join(data_dir, 'test.csv'), key_prefix=prefix)\n",
    "#train_location = sagemaker_session.upload_data(os.path.join(data_dir, 'train.csv'), key_prefix=prefix)"
   ]
  },
  {
   "cell_type": "markdown",
   "metadata": {},
   "source": [
    "### Célula de teste\n",
    "\n",
    "Teste se seus dados foram carregados com sucesso. A célula abaixo imprime os itens em seu balde S3 e gerará um erro se estiver vazio. Você deve ver o conteúdo do seu `data_dir` e talvez alguns pontos de verificação. Se você vir qualquer outro arquivo listado, então você pode ter alguns arquivos de modelo antigo que você pode excluir através do console S3 (entretanto, arquivos adicionais não devem afetar o desempenho do modelo desenvolvido neste notebook)."
   ]
  },
  {
   "cell_type": "code",
   "execution_count": null,
   "metadata": {
    "collapsed": true
   },
   "outputs": [],
   "source": [
    "\"\"\"\n",
    "DON'T MODIFY ANYTHING IN THIS CELL THAT IS BELOW THIS LINE\n",
    "\"\"\"\n",
    "# confirm that data is in S3 bucket\n",
    "empty_check = []\n",
    "for obj in boto3.resource('s3').Bucket(bucket).objects.all():\n",
    "    empty_check.append(obj.key)\n",
    "    print(obj.key)\n",
    "\n",
    "assert len(empty_check) !=0, 'S3 bucket is empty.'\n",
    "print('Test passed!')"
   ]
  },
  {
   "cell_type": "markdown",
   "metadata": {},
   "source": [
    "---\n",
    "\n",
    "# Modelagem\n",
    "\n",
    "Agora que você carregou seus dados de treinamento, é hora de definir e treinar um modelo!\n",
    "\n",
    "O tipo de modelo que você cria é com você. Para uma tarefa de classificação binária, você pode escolher seguir um dos três caminhos:\n",
    "* Use um algoritmo de classificação integrado, como LinearLearner.\n",
    "* Defina um classificador Scikit-learn personalizado, uma comparação de modelos pode ser encontrada [aqui](https://scikit-learn.org/stable/auto_examples/classification/plot_classifier_comparison.html).\n",
    "* Defina um classificador de rede neural PyTorch personalizado.\n",
    "\n",
    "Caberá a você testar uma variedade de modelos e escolher o melhor. Seu projeto será avaliado com base na precisão de seu modelo final.\n",
    " \n",
    "---\n",
    "\n",
    "## EXERCÍCIO: Complete um script de treinamento\n",
    "\n",
    "Para implementar um classificador personalizado, você precisará completar um script `train.py`. Você recebeu as pastas `source_sklearn` e` source_pytorch` que contêm o código inicial para um modelo Scikit-learn personalizado e um modelo PyTorch, respectivamente. Cada diretório possui um script de treinamento `train.py`. Para concluir este projeto **você só precisa concluir um desses scripts**; o script que é responsável por treinar seu modelo final.\n",
    "\n",
    "Um script de treinamento típico:\n",
    "* Carrega dados de treinamento de um diretório especificado\n",
    "* Analisa qualquer treinamento e hiperparâmetros de modelo (por exemplo, nós em uma rede neural, períodos de treinamento, etc.)\n",
    "* Instancia um modelo do seu design, com quaisquer hiperparâmetros especificados\n",
    "* Treina esse modelo\n",
    "* Por fim, salva o modelo para que possa ser hospedado / implantado posteriormente\n",
    "\n",
    "### Definindo e treinando um modelo\n",
    "Muito do código do script de treinamento é fornecido para você. Quase todo o seu trabalho será feito na seção ʻif __name__ == '__main __': `. Para completar um arquivo `train.py`, você irá:\n",
    "1. Importe todas as bibliotecas extras de que precisar\n",
    "2. Defina quaisquer hiperparâmetros adicionais de treinamento de modelo usando `parser.add_argument`\n",
    "2. Defina um modelo na seção ʻif __name__ == '__main __': `\n",
    "3. Treine o modelo na mesma seção\n",
    "\n",
    "Abaixo, você pode usar `! Pygementize` para exibir um arquivo` train.py` existente. Leia o código; todas as suas tarefas são marcadas com comentários `TODO`.\n",
    "\n",
    "**Nota: Se você escolher criar um modelo PyTorch personalizado, você será responsável por definir o modelo no arquivo `model.py`, ** e um arquivo` predict.py` é fornecido. Se você escolher usar o Scikit-learn, você só precisa do arquivo `train.py`; você pode importar um classificador da biblioteca `sklearn`."
   ]
  },
  {
   "cell_type": "code",
   "execution_count": null,
   "metadata": {
    "collapsed": true
   },
   "outputs": [],
   "source": [
    "# directory can be changed to: source_sklearn or source_pytorch\n",
    "!pygmentize source_sklearn/train.py"
   ]
  },
  {
   "cell_type": "markdown",
   "metadata": {},
   "source": [
    "### Código fornecido\n",
    "\n",
    "Se você leu o código acima, pode ver que o código inicial inclui algumas coisas:\n",
    "* Carregamento do modelo (`model_fn`) e salvamento do código\n",
    "* Obtendo os hiperparâmetros padrão do SageMaker\n",
    "* Carregando os dados de treinamento por nome, `train.csv` e extraindo os recursos e rótulos,` train_x` e `train_y`\n",
    "\n",
    "Se você gostaria de ler mais sobre como salvar modelo com [joblib for sklearn](https://scikit-learn.org/stable/modules/model_persistence.html) ou com [torch.save](https://pytorch.org/tutorials/beginner/saving_loading_models.html), clique nos links fornecidos."
   ]
  },
  {
   "cell_type": "markdown",
   "metadata": {},
   "source": [
    "---\n",
    "# Crie um estimador\n",
    "\n",
    "Quando um modelo personalizado é construído no SageMaker, um ponto de entrada deve ser especificado. Este é o arquivo Python que será executado quando o modelo for treinado; a função `train.py` que você especificou acima. Para executar um script de treinamento personalizado no SageMaker, construa um estimador e preencha os argumentos do construtor apropriados:\n",
    "\n",
    "* **entry_point**: o caminho para o script Python que SageMaker executa para treinamento e previsão.\n",
    "* **source_dir**: O caminho para o diretório do script de treinamento `source_sklearn` OU` source_pytorch`.\n",
    "* **entry_point**: o caminho para o script Python que SageMaker executa para treinamento e previsão.\n",
    "* **source_dir**: O caminho para o diretório do script de treinamento `train_sklearn` OU` train_pytorch`.\n",
    "* **entry_point**: O caminho para o script Python que SageMaker executa para treinamento.\n",
    "* **source_dir**: O caminho para o diretório do script de treinamento `train_sklearn` OU` train_pytorch`.\n",
    "* **função**: Função ARN, que foi especificada acima.\n",
    "* **train_instance_count**: O número de instâncias de treinamento (deve ser deixado em 1).\n",
    "* **train_instance_type**: O tipo de instância SageMaker para treinamento. Observação: como o Scikit-learn não oferece suporte nativo ao treinamento de GPU, o Sagemaker Scikit-learn não oferece suporte a treinamento em tipos de instância de GPU.\n",
    "* **sagemaker_session**: A sessão usada para treinar no Sagemaker.\n",
    "* **hiperparâmetros** (opcional): Um dicionário `{'nome': valor, ..}` passado para a função de trem como hiperparâmetros.\n",
    "\n",
    "Nota: Para um modelo PyTorch, há outro argumento opcional **framework_version**, que você pode definir para a versão mais recente do PyTorch, `1.0`.\n",
    "\n",
    "## EXERCÍCIO: Definir um estimador Scikit-learn ou PyTorch\n",
    "\n",
    "Para importar o estimador desejado, use uma das seguintes linhas:\n",
    "```\n",
    "from sagemaker.sklearn.estimator import SKLearn\n",
    "```\n",
    "```\n",
    "from sagemaker.pytorch import PyTorch\n",
    "```"
   ]
  },
  {
   "cell_type": "code",
   "execution_count": null,
   "metadata": {
    "collapsed": true
   },
   "outputs": [],
   "source": [
    "# your import and estimator code, here\n",
    "\n",
    "# from sagemaker.sklearn.estimator import SKLearn\n",
    "# from sagemaker.pytorch import PyTorch\n",
    "\n",
    "from sagemaker import LinearLearner"
   ]
  },
  {
   "cell_type": "markdown",
   "metadata": {},
   "source": [
    "## EXERCISE: Train the estimator\n",
    "\n",
    "Train your estimator on the training data stored in S3. This should create a training job that you can monitor in your SageMaker console."
   ]
  },
  {
   "cell_type": "code",
   "execution_count": null,
   "metadata": {},
   "outputs": [],
   "source": [
    "output_path = 's3://{}/{}'.format(bucket, prefix)"
   ]
  },
  {
   "cell_type": "code",
   "execution_count": null,
   "metadata": {
    "collapsed": true
   },
   "outputs": [],
   "source": [
    "linear = LinearLearner(role = role,\n",
    "                      train_instance_count = 1,\n",
    "                      train_instance_type='ml.c4.xlarge',\n",
    "                      predictor_type='binary_classifier',\n",
    "                      output_path=output_path,\n",
    "                      sagemaker_session=sagemaker_session,\n",
    "                      epochs = 15)\n"
   ]
  },
  {
   "cell_type": "code",
   "execution_count": null,
   "metadata": {},
   "outputs": [],
   "source": [
    "train_x_np = train.astype('float32')\n",
    "train_x_np = train.astype('float32')"
   ]
  },
  {
   "cell_type": "code",
   "execution_count": null,
   "metadata": {},
   "outputs": [],
   "source": [
    "%%time\n",
    "\n",
    "# Train your estimator on S3 training data\n",
    "linear.fit(formatted_train_data)"
   ]
  },
  {
   "cell_type": "code",
   "execution_count": null,
   "metadata": {},
   "outputs": [],
   "source": [
    "test_x_np = test.astype('float32')\n",
    "result = linear.predict(test_x_np[0])\n",
    "result"
   ]
  },
  {
   "cell_type": "markdown",
   "metadata": {},
   "source": [
    "## EXERCÍCIO: Implantar o modelo treinado\n",
    "\n",
    "Após o treinamento, implante seu modelo para criar um `preditor`. Se você estiver usando um modelo PyTorch, você precisará criar um `PyTorchModel` treinado que aceita o` <model> .model_data` treinado como um parâmetro de entrada e aponta para o arquivo `source_pytorch / predict.py` fornecido como um ponto de entrada.\n",
    "\n",
    "Para implantar um modelo treinado, você usará `<model> .deploy`, que leva em dois argumentos:\n",
    "* **initial_instance_count**: O número de instâncias implementadas (1).\n",
    "* **instance_type**: O tipo de instância SageMaker para implantação.\n",
    "\n",
    "Observação: se você se deparar com um erro de instância, pode ser porque escolheu o treinamento ou implantação incorreto instance_type. Pode ser útil consultar o código do exercício anterior para ver quais tipos de instâncias usamos."
   ]
  },
  {
   "cell_type": "code",
   "execution_count": null,
   "metadata": {
    "collapsed": true
   },
   "outputs": [],
   "source": [
    "%%time\n",
    "\n",
    "# uncomment, if needed\n",
    "# from sagemaker.pytorch import PyTorchModel\n",
    "\n",
    "\n",
    "# deploy your model to create a predictor\n",
    "predictor = linear.deploy(initial_instance_count=1, instance_type='ml.t2.medium')"
   ]
  },
  {
   "cell_type": "markdown",
   "metadata": {},
   "source": [
    "---\n",
    "# Avaliando seu modelo\n",
    "\n",
    "Uma vez que seu modelo é implantado, você pode ver como ele funciona quando aplicado aos nossos dados de teste.\n",
    "\n",
    "A célula fornecida abaixo lê os dados de teste, presumindo que estejam armazenados localmente em `data_dir` e com o nome` test.csv`. Os rótulos e recursos são extraídos do arquivo `.csv`."
   ]
  },
  {
   "cell_type": "code",
   "execution_count": null,
   "metadata": {
    "collapsed": true
   },
   "outputs": [],
   "source": [
    "\"\"\"\n",
    "DON'T MODIFY ANYTHING IN THIS CELL THAT IS BELOW THIS LINE\n",
    "\"\"\"\n",
    "import os\n",
    "\n",
    "# read in test data, assuming it is stored locally\n",
    "test_data = pd.read_csv(os.path.join(data_dir, \"test.csv\"), header=None, names=None)\n",
    "\n",
    "# labels are in the first column\n",
    "test_y = test_data.iloc[:,0]\n",
    "test_x = test_data.iloc[:,1:]"
   ]
  },
  {
   "cell_type": "markdown",
   "metadata": {},
   "source": [
    "## EXERCÍCIO: Determine a precisão do seu modelo\n",
    "\n",
    "Use seu `preditor` implantado para gerar rótulos de classe previstos para os dados de teste. Compare-os com os rótulos *true*, `test_y`, e calcule a precisão como um valor entre 0 e 1,0 que indica a fração dos dados de teste que seu modelo classificou corretamente. Você pode usar [sklearn.metrics](https://scikit-learn.org/stable/modules/classes.html#module-sklearn.metrics) para este cálculo.\n",
    "\n",
    "**Para ser aprovado neste projeto, seu modelo deve obter pelo menos 90% de precisão de teste.**"
   ]
  },
  {
   "cell_type": "code",
   "execution_count": null,
   "metadata": {
    "collapsed": true
   },
   "outputs": [],
   "source": [
    "# First: generate predicted, class labels\n",
    "test_y_preds = None\n",
    "\n",
    "\n",
    "\"\"\"\n",
    "DON'T MODIFY ANYTHING IN THIS CELL THAT IS BELOW THIS LINE\n",
    "\"\"\"\n",
    "# test that your model generates the correct number of labels\n",
    "assert len(test_y_preds)==len(test_y), 'Unexpected number of predictions.'\n",
    "print('Test passed!')"
   ]
  },
  {
   "cell_type": "code",
   "execution_count": null,
   "metadata": {
    "collapsed": true
   },
   "outputs": [],
   "source": [
    "# Second: calculate the test accuracy\n",
    "accuracy = None\n",
    "\n",
    "print(accuracy)\n",
    "\n",
    "\n",
    "## print out the array of predicted and true labels, if you want\n",
    "print('\\nPredicted class labels: ')\n",
    "print(test_y_preds)\n",
    "print('\\nTrue class labels: ')\n",
    "print(test_y.values)"
   ]
  },
  {
   "cell_type": "markdown",
   "metadata": {},
   "source": [
    "### Pergunta 1: Quantos falsos positivos e falsos negativos seu modelo produziu, se houver? E por que você acha que isso acontece?"
   ]
  },
  {
   "cell_type": "markdown",
   "metadata": {},
   "source": [
    "** Answer**: \n"
   ]
  },
  {
   "cell_type": "markdown",
   "metadata": {},
   "source": [
    "### Pergunta 2: Como você decidiu sobre o tipo de modelo a ser usado?"
   ]
  },
  {
   "cell_type": "markdown",
   "metadata": {},
   "source": [
    "** Answer**:\n",
    "\n"
   ]
  },
  {
   "cell_type": "markdown",
   "metadata": {},
   "source": [
    "----\n",
    "## EXERCÍCIO: Limpar recursos\n",
    "\n",
    "Depois de avaliar seu modelo, **exclua o endpoint do modelo**. Você pode fazer isso com uma chamada para `.delete_endpoint ()`. Você precisa mostrar, neste bloco de notas, que o endpoint foi excluído. Quaisquer outros recursos, você pode excluir do console AWS, e você encontrará mais instruções sobre como limpar todos os seus recursos, abaixo."
   ]
  },
  {
   "cell_type": "code",
   "execution_count": null,
   "metadata": {
    "collapsed": true
   },
   "outputs": [],
   "source": [
    "# uncomment and fill in the line below!\n",
    "# <name_of_deployed_predictor>.delete_endpoint()\n",
    "predictor.delete_endpoint()"
   ]
  },
  {
   "cell_type": "markdown",
   "metadata": {},
   "source": [
    "### Excluindo bucket S3\n",
    "\n",
    "Quando você tiver * completamente * concluído o treinamento e os modelos de teste, também poderá excluir todo o seu bucket S3. Se você fizer isso antes de terminar de treinar seu modelo, terá que recriar seu bucket S3 e carregar seus dados de treinamento novamente."
   ]
  },
  {
   "cell_type": "code",
   "execution_count": null,
   "metadata": {
    "collapsed": true
   },
   "outputs": [],
   "source": [
    "# deleting bucket, uncomment lines below\n",
    " bucket_to_delete = boto3.resource('s3').Bucket(bucket)\n",
    " bucket_to_delete.objects.all().delete()"
   ]
  },
  {
   "cell_type": "markdown",
   "metadata": {},
   "source": [
    "### Excluindo todos os seus modelos e instâncias\n",
    "\n",
    "Quando você estiver _completamente_ concluído com este projeto e **nunca** quiser revisitar este bloco de notas, você pode escolher excluir todas as instâncias e modelos de bloco de notas SageMaker seguindo [estas instruções](https://docs.aws.amazon.com/sagemaker/latest/dg/ex1-cleanup.html). Antes de excluir esta instância do notebook, recomendo pelo menos baixar uma cópia e salvá-la, localmente."
   ]
  },
  {
   "cell_type": "markdown",
   "metadata": {},
   "source": [
    "---\n",
    "## Outras direções\n",
    "\n",
    "Existem muitas maneiras de melhorar ou adicionar a este projeto para expandir seu aprendizado ou torná-lo um projeto único para você. Algumas ideias estão listadas abaixo:\n",
    "* Treine um classificador para prever a *categoria* (1-3) de plágio e não apenas plagiado (1) ou não (0).\n",
    "* Utilize um conjunto de dados diferente e maior para ver se este modelo pode ser estendido a outros tipos de plágio.\n",
    "* Use a análise de linguagem ou nível de caractere para encontrar diferentes (e mais) recursos de semelhança.\n",
    "* Escreva uma função de pipeline completa que aceite um texto-fonte e um arquivo de texto enviado e classifique o texto enviado como plagiado ou não.\n",
    "* Use o API Gateway e uma função lambda para implantar seu modelo em um aplicativo da web.\n",
    "\n",
    "Essas são apenas opções para estender seu trabalho. Se você completou todos os exercícios neste bloco de notas, você completou um aplicativo do mundo real e pode prosseguir para enviar seu projeto. Bom trabalho!"
   ]
  }
 ],
 "metadata": {
  "kernelspec": {
   "display_name": "Python 3",
   "language": "python",
   "name": "python3"
  },
  "language_info": {
   "codemirror_mode": {
    "name": "ipython",
    "version": 3
   },
   "file_extension": ".py",
   "mimetype": "text/x-python",
   "name": "python",
   "nbconvert_exporter": "python",
   "pygments_lexer": "ipython3",
   "version": "3.7.6"
  }
 },
 "nbformat": 4,
 "nbformat_minor": 2
}
